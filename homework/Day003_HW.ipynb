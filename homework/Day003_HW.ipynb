{
 "cells": [
  {
   "cell_type": "markdown",
   "metadata": {},
   "source": [
    "# Python 下載XML檔案與解析\n",
    "\n",
    "\n",
    "* 了解 xml 檔案格式與內容\n",
    "* 能夠利用套件存取 xml 格式的檔案\n"
   ]
  },
  {
   "cell_type": "markdown",
   "metadata": {},
   "source": [
    "## 作業目標\n",
    "\n",
    "* 比較一下範例檔案中的「File I/O」與「xmltodict」讀出來的內容有什麼差異\n",
    "\n",
    "* 根據範例檔案的結果：\n",
    "    1. 請問高雄市有多少地區有溫度資料？\n",
    "    2. 請取出每一個地區所記錄的第一個時間點跟溫度\n",
    "    3. 請取出第一個地區所記錄的每一個時間點跟溫度"
   ]
  },
  {
   "cell_type": "markdown",
   "metadata": {},
   "source": [
    "### 比較一下範例檔案中的「File I/O」與「xmltodict」讀出來的內容有什麼差異\n"
   ]
  },
  {
   "cell_type": "code",
   "execution_count": 10,
   "metadata": {
    "tags": []
   },
   "outputs": [
    {
     "output_type": "stream",
     "name": "stdout",
     "text": [
      "<?xml version=\"1.0\" encoding=\"utf-8\"?>\n",
      "<cwbopendata xmlns=\"urn:cwb:gov:tw:cwbcommon:0.1\">\n",
      "  <identifier>ee2e9d7d-647c-4634-9027-7c822bde7bc0</identifier>\n",
      "  <sender>weather@cwb.gov.tw</sender>\n",
      "  <sent>2019-06-28T12:20:35+08:00</sent>\n",
      "  <status>Actual</status>\n",
      "  <scope>Public</scope>\n",
      "  <msgType>Issue</msgType>\n",
      "  <dataid>D0047-065</dataid>\n",
      "  <source>MFC</source>\n",
      "  <dataset>\n",
      "    <datasetInfo>\n",
      "      <datasetDescription>臺灣各縣市鄉鎮未來3天(72小時)逐3小時天氣預報</datasetDescription>\n",
      "      <datasetLanguage>zh-TW</datasetLanguage>\n",
      "      <issueTime>2019-06-28T11:00:00+08:00</issueTime>\n",
      "================================================================================\n",
      "odict_keys(['@xmlns', 'identifier', 'sender', 'sent', 'status', 'scope', 'msgType', 'dataid', 'source', 'dataset'])\n"
     ]
    }
   ],
   "source": [
    "# File I/O\n",
    "fh = open(\"data\"+os.sep+\"64_72hr_CH.xml\", \"r\", encoding=\"UTF-8\")\n",
    "xml = fh.read()\n",
    "fh.close()\n",
    "for s in xml.split('\\n')[:15]:  print(s)\n",
    "\n",
    "print(\"=\"*80)\n",
    "\n",
    "# xmltodict\n",
    "import xmltodict\n",
    "d = dict(xmltodict.parse(xml))\n",
    "print(d['cwbopendata'].keys())"
   ]
  },
  {
   "cell_type": "markdown",
   "metadata": {},
   "source": [
    "### 根據範例檔案的結果：\n",
    "\n",
    "1. 請問高雄市有多少地區有溫度資料？\n",
    "2. 請取出每一個地區所記錄的第一個時間點跟溫度\n",
    "3. 請取出第一個地區所記錄的每一個時間點跟溫度"
   ]
  },
  {
   "cell_type": "code",
   "execution_count": 50,
   "metadata": {},
   "outputs": [
    {
     "output_type": "stream",
     "name": "stdout",
     "text": [
      "Number of locations recorded: 38\n"
     ]
    }
   ],
   "source": [
    "# 1. 請問高雄市有多少地區有溫度資料？\n",
    "\n",
    "print(\"Number of locations recorded:\", len(d['cwbopendata']['dataset']['locations']['location']))"
   ]
  },
  {
   "cell_type": "code",
   "execution_count": 51,
   "metadata": {
    "tags": []
   },
   "outputs": [
    {
     "output_type": "stream",
     "name": "stdout",
     "text": [
      "location: 鹽埕區, temperature: 33 攝氏度\nlocation: 鼓山區, temperature: 33 攝氏度\nlocation: 左營區, temperature: 33 攝氏度\nlocation: 楠梓區, temperature: 34 攝氏度\nlocation: 三民區, temperature: 32 攝氏度\nlocation: 新興區, temperature: 33 攝氏度\nlocation: 前金區, temperature: 33 攝氏度\nlocation: 苓雅區, temperature: 33 攝氏度\nlocation: 前鎮區, temperature: 33 攝氏度\nlocation: 旗津區, temperature: 32 攝氏度\nlocation: 小港區, temperature: 33 攝氏度\nlocation: 鳳山區, temperature: 34 攝氏度\nlocation: 林園區, temperature: 33 攝氏度\nlocation: 大寮區, temperature: 34 攝氏度\nlocation: 大樹區, temperature: 34 攝氏度\nlocation: 大社區, temperature: 34 攝氏度\nlocation: 仁武區, temperature: 33 攝氏度\nlocation: 鳥松區, temperature: 34 攝氏度\nlocation: 岡山區, temperature: 34 攝氏度\nlocation: 橋頭區, temperature: 35 攝氏度\nlocation: 燕巢區, temperature: 34 攝氏度\nlocation: 田寮區, temperature: 34 攝氏度\nlocation: 阿蓮區, temperature: 34 攝氏度\nlocation: 路竹區, temperature: 33 攝氏度\nlocation: 湖內區, temperature: 33 攝氏度\nlocation: 茄萣區, temperature: 33 攝氏度\nlocation: 永安區, temperature: 32 攝氏度\nlocation: 彌陀區, temperature: 32 攝氏度\nlocation: 梓官區, temperature: 32 攝氏度\nlocation: 旗山區, temperature: 34 攝氏度\nlocation: 美濃區, temperature: 34 攝氏度\nlocation: 六龜區, temperature: 34 攝氏度\nlocation: 甲仙區, temperature: 33 攝氏度\nlocation: 杉林區, temperature: 36 攝氏度\nlocation: 內門區, temperature: 34 攝氏度\nlocation: 茂林區, temperature: 34 攝氏度\nlocation: 桃源區, temperature: 31 攝氏度\nlocation: 那瑪夏區, temperature: 29 攝氏度\n"
     ]
    }
   ],
   "source": [
    "# 2. 請取出每一個地區所記錄的第一個時間點跟溫度\n",
    "\n",
    "for loc in d['cwbopendata']['dataset']['locations']['location']:\n",
    "    print(f\"location: {loc['locationName']}, temperature: {loc['weatherElement'][0]['time'][0]['elementValue']['value']} \" + \\\n",
    "            f\"{loc['weatherElement'][0]['time'][0]['elementValue']['measures']}\")"
   ]
  },
  {
   "cell_type": "code",
   "execution_count": 54,
   "metadata": {},
   "outputs": [
    {
     "output_type": "stream",
     "name": "stdout",
     "text": [
      "location: 鹽埕區\ntemperature: 33 攝氏度\ntemperature: 33 攝氏度\ntemperature: 32 攝氏度\ntemperature: 30 攝氏度\ntemperature: 30 攝氏度\ntemperature: 29 攝氏度\ntemperature: 28 攝氏度\ntemperature: 31 攝氏度\ntemperature: 32 攝氏度\ntemperature: 32 攝氏度\ntemperature: 31 攝氏度\ntemperature: 30 攝氏度\ntemperature: 29 攝氏度\ntemperature: 28 攝氏度\ntemperature: 28 攝氏度\ntemperature: 31 攝氏度\ntemperature: 32 攝氏度\ntemperature: 32 攝氏度\ntemperature: 31 攝氏度\ntemperature: 30 攝氏度\ntemperature: 29 攝氏度\ntemperature: 29 攝氏度\ntemperature: 28 攝氏度\ntemperature: 31 攝氏度\n"
     ]
    }
   ],
   "source": [
    "# 3. 請取出第一個地區所記錄的每一個時間點跟溫度\n",
    "\n",
    "d_firstLoc = d['cwbopendata']['dataset']['locations']['location'][0]\n",
    "print(\"location:\", d_firstLoc['locationName'])\n",
    "for t in d_firstLoc['weatherElement'][0]['time']:\n",
    "    print(f\"temperature: {t['elementValue']['value']} {t['elementValue']['measures']}\")"
   ]
  }
 ],
 "metadata": {
  "kernelspec": {
   "display_name": "Python 3",
   "language": "python",
   "name": "python3"
  },
  "language_info": {
   "codemirror_mode": {
    "name": "ipython",
    "version": 3
   },
   "file_extension": ".py",
   "mimetype": "text/x-python",
   "name": "python",
   "nbconvert_exporter": "python",
   "pygments_lexer": "ipython3",
   "version": "3.6.12-final"
  }
 },
 "nbformat": 4,
 "nbformat_minor": 2
}